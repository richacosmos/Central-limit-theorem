{
 "cells": [
  {
   "cell_type": "code",
   "execution_count": null,
   "id": "c5ac71e9",
   "metadata": {},
   "outputs": [],
   "source": [
    "import numpy as np\n",
    "import seaborn as sns\n",
    "import pandas as pd\n",
    "import matplotlib.pyplot as plt\n"
   ]
  },
  {
   "cell_type": "markdown",
   "id": "a40d0806",
   "metadata": {},
   "source": [
    "# The distribution for 1000 rolls of dice"
   ]
  },
  {
   "cell_type": "markdown",
   "id": "27388b9e",
   "metadata": {},
   "source": [
    "The distribution is uniform as all outcomes are equiprobable: as shown by the following example"
   ]
  },
  {
   "cell_type": "code",
   "execution_count": 7,
   "id": "41d37209",
   "metadata": {},
   "outputs": [],
   "source": [
    "dice=[1,2,3,4,5,6]\n",
    "outcomes=[]\n",
    "import random\n",
    "\n",
    "for i in range(1000):\n",
    "    outcomes.append(random.choice(dice))\n",
    "    "
   ]
  },
  {
   "cell_type": "code",
   "execution_count": 8,
   "id": "f2bc9c07",
   "metadata": {},
   "outputs": [
    {
     "data": {
      "text/plain": [
       "<seaborn.axisgrid.FacetGrid at 0x7ffa400f0b80>"
      ]
     },
     "execution_count": 8,
     "metadata": {},
     "output_type": "execute_result"
    },
    {
     "data": {
      "image/png": "[encoded data removed]",
      "text/plain": [
       "<Figure size 360x360 with 1 Axes>"
      ]
     },
     "metadata": {
      "needs_background": "light"
     },
     "output_type": "display_data"
    }
   ],
   "source": [
    "sns.displot(x=outcomes)"
   ]
  },
  {
   "cell_type": "markdown",
   "id": "e32133a0",
   "metadata": {},
   "source": [
    "# Proving Central limit theorem"
   ]
  },
  {
   "cell_type": "markdown",
   "id": "7eb4fae3",
   "metadata": {},
   "source": [
    "1) the mean of all samples taken from the popoulation are normally distributed.\n",
    "2)this mean is equivalent to the mean of the population\n"
   ]
  },
  {
   "cell_type": "code",
   "execution_count": 31,
   "id": "bae8935e",
   "metadata": {},
   "outputs": [
    {
     "name": "stdout",
     "output_type": "stream",
     "text": [
      "[3.96, 3.2, 3.85, 3.505, 3.412, 3.4266666666666667, 3.5768115942028986, 3.576, 3.62, 3.6, 3.7306666666666666, 3.56, 3.44, 3.4472361809045227, 3.4948979591836733, 3.430188679245283, 3.4814814814814814, 3.466285714285714, 3.5824468085106385]\n"
     ]
    }
   ],
   "source": [
    "#here i have taken a dice and different samples. \n",
    "final_outcomes=[]\n",
    "size=[25,50,100,200,250,300,345,500,600,650,750,900, 200,199,980,265,945,875,376]\n",
    "for i in size:\n",
    "    final_outcomes.append(np.mean(random.choices(outcomes, k=i)))\n",
    "print(final_outocmes)\n",
    "    \n"
   ]
  },
  {
   "cell_type": "raw",
   "id": "b66eb925",
   "metadata": {},
   "source": [
    "sns.distplot(x)"
   ]
  },
  {
   "cell_type": "markdown",
   "id": "1cb7e74d",
   "metadata": {},
   "source": [
    "Here the samples are very less, so this distribution is not clearly normally distributed"
   ]
  },
  {
   "cell_type": "code",
   "execution_count": 37,
   "id": "52effb97",
   "metadata": {},
   "outputs": [
    {
     "name": "stdout",
     "output_type": "stream",
     "text": [
      "3.5452464079551342 0.16396295079318482\n"
     ]
    }
   ],
   "source": [
    "print(np.mean(x), np.std(x))"
   ]
  },
  {
   "cell_type": "raw",
   "id": "475dbcce",
   "metadata": {},
   "source": [
    "Now appling CLT on Roulette"
   ]
  },
  {
   "cell_type": "code",
   "execution_count": 39,
   "id": "ab01a21d",
   "metadata": {},
   "outputs": [
    {
     "name": "stdout",
     "output_type": "stream",
     "text": [
      "[1, 2, 3, 4, 5, 6, 7, 8, 9, 10, 11, 12, 13, 14, 15, 16, 17, 18, 19, 20, 21, 22, 23, 24, 25, 26, 27, 28, 29, 30, 31, 32, 33, 34, 35, 36]\n"
     ]
    }
   ],
   "source": [
    "#now working on a roulette which has 36 outcomes:\n",
    "\n",
    "roulette_outcomes=[]\n",
    "\n",
    "for i in range(1,37):\n",
    "    roulette_outcomes.append(i)\n",
    "print(roulette_outcomes)    "
   ]
  },
  {
   "cell_type": "code",
   "execution_count": 40,
   "id": "bdf4f472",
   "metadata": {},
   "outputs": [],
   "source": [
    "random_outcomes=[]\n",
    "for i in range(1000):\n",
    "        random_outcomes.append(random.choice(roulette_outcomes))\n"
   ]
  },
  {
   "cell_type": "code",
   "execution_count": 51,
   "id": "990d7855",
   "metadata": {},
   "outputs": [
    {
     "name": "stdout",
     "output_type": "stream",
     "text": [
      "[478, 431, 198, 305, 201, 178, 808, 932, 856, 810, 408, 353, 242, 511, 763, 327, 668, 830, 957, 908, 306, 588, 777, 283, 316, 964, 66, 418, 683, 397, 148, 817, 138, 629, 190, 629, 290, 837, 619, 712, 779, 298, 406, 384, 304, 918, 999, 717, 720, 315, 888, 824, 867, 178, 285, 498, 179, 674, 293, 970, 295, 399, 450, 563, 969, 698, 115, 554, 663, 718, 253, 988, 371, 101, 755, 961, 180, 206, 127, 579, 227, 360, 177, 775, 388, 22, 139, 974, 33, 817, 707, 520, 645, 972, 642, 261, 353, 128, 838, 124]\n"
     ]
    }
   ],
   "source": [
    "#for making samples of different sets\n",
    "sample_size=[]\n",
    "for i in range(100):\n",
    "    sample_size.append(random.randint(1,1000))\n",
    "print(sample_size)"
   ]
  },
  {
   "cell_type": "code",
   "execution_count": 52,
   "id": "3b115d2f",
   "metadata": {},
   "outputs": [],
   "source": [
    "set=[]\n",
    "for i in sample_size:\n",
    "    set.append(np.mean(random.choices(random_outcomes, k=i)))"
   ]
  },
  {
   "cell_type": "code",
   "execution_count": 53,
   "id": "a845e12e",
   "metadata": {},
   "outputs": [
    {
     "name": "stderr",
     "output_type": "stream",
     "text": [
      "/home/richa/anaconda3/lib/python3.8/site-packages/seaborn/distributions.py:2557: FutureWarning: `distplot` is a deprecated function and will be removed in a future version. Please adapt your code to use either `displot` (a figure-level function with similar flexibility) or `histplot` (an axes-level function for histograms).\n",
      "  warnings.warn(msg, FutureWarning)\n"
     ]
    },
    {
     "data": {
      "text/plain": [
       "<AxesSubplot: ylabel='Density'>"
      ]
     },
     "execution_count": 53,
     "metadata": {},
     "output_type": "execute_result"
    },
    {
     "data": {
      "image/png": "[encoded data removed]",
      "text/plain": [
       "<Figure size 432x288 with 1 Axes>"
      ]
     },
     "metadata": {
      "needs_background": "light"
     },
     "output_type": "display_data"
    }
   ],
   "source": [
    "sns.distplot(x=set)"
   ]
  },
  {
   "cell_type": "code",
   "execution_count": 54,
   "id": "622544c8",
   "metadata": {},
   "outputs": [
    {
     "name": "stdout",
     "output_type": "stream",
     "text": [
      "18.47601905680652 18.438\n"
     ]
    }
   ],
   "source": [
    "print(np.mean(set), np.mean(random_outcomes))"
   ]
  },
  {
   "cell_type": "code",
   "execution_count": null,
   "id": "6809d52a",
   "metadata": {},
   "outputs": [],
   "source": []
  }
 ],
 "metadata": {
  "kernelspec": {
   "display_name": "Python 3 (ipykernel)",
   "language": "python",
   "name": "python3"
  },
  "language_info": {
   "codemirror_mode": {
    "name": "ipython",
    "version": 3
   },
   "file_extension": ".py",
   "mimetype": "text/x-python",
   "name": "python",
   "nbconvert_exporter": "python",
   "pygments_lexer": "ipython3",
   "version": "3.8.8"
  }
 },
 "nbformat": 4,
 "nbformat_minor": 5
}
